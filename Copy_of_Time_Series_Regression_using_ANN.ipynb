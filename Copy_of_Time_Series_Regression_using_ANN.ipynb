{
  "nbformat": 4,
  "nbformat_minor": 0,
  "metadata": {
    "colab": {
      "name": "Copy of Time Series Regression using ANN.ipynb",
      "version": "0.3.2",
      "provenance": [],
      "collapsed_sections": []
    },
    "kernelspec": {
      "name": "python3",
      "display_name": "Python 3"
    },
    "accelerator": "GPU"
  },
  "cells": [
    {
      "metadata": {
        "id": "QT3NTrKK9X_0",
        "colab_type": "code",
        "outputId": "ab63d2c3-651c-4bb4-8a5c-6b1567c4d345",
        "colab": {
          "resources": {
            "http://localhost:8080/nbextensions/google.colab/files.js": {
              "data": "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",
              "ok": true,
              "headers": [
                [
                  "content-type",
                  "application/javascript"
                ]
              ],
              "status": 200,
              "status_text": ""
            }
          },
          "base_uri": "https://localhost:8080/",
          "height": 55
        }
      },
      "cell_type": "code",
      "source": [
        "import pandas as pd \n",
        "import numpy as np\n",
        "import matplotlib.pyplot as plt\n",
        "from google.colab import files\n",
        "from sklearn import datasets\n",
        "from scipy.special import expit\n",
        "\n",
        "\n",
        "uploaded = files.upload()\n",
        "dataset = pd.read_csv('USD_IDR Historical Data 5 year.csv')  \n",
        "dataset.shape \n"
      ],
      "execution_count": 0,
      "outputs": [
        {
          "output_type": "display_data",
          "data": {
            "text/html": [
              "\n",
              "     <input type=\"file\" id=\"files-cdcad631-9433-4229-a649-3d1d1fd1e66a\" name=\"files[]\" multiple disabled />\n",
              "     <output id=\"result-cdcad631-9433-4229-a649-3d1d1fd1e66a\">\n",
              "      Upload widget is only available when the cell has been executed in the\n",
              "      current browser session. Please rerun this cell to enable.\n",
              "      </output>\n",
              "      <script src=\"/nbextensions/google.colab/files.js\"></script> "
            ],
            "text/plain": [
              "<IPython.core.display.HTML object>"
            ]
          },
          "metadata": {
            "tags": []
          }
        },
        {
          "output_type": "execute_result",
          "data": {
            "text/plain": [
              "(1355, 6)"
            ]
          },
          "metadata": {
            "tags": []
          },
          "execution_count": 28
        }
      ]
    },
    {
      "metadata": {
        "id": "a8NVTmxJQKXo",
        "colab_type": "code",
        "outputId": "cd82860f-5c6e-44e7-a926-a5d69911fb23",
        "colab": {
          "base_uri": "https://localhost:8080/",
          "height": 119
        }
      },
      "cell_type": "code",
      "source": [
        "print(dataset.head() )\n",
        "\n",
        "price = dataset.iloc[:, 1].str.replace(',', '').astype(float)\n",
        "date = dataset.iloc[:, 0].values\n"
      ],
      "execution_count": 0,
      "outputs": [
        {
          "output_type": "stream",
          "text": [
            "           Date     Price      Open      High       Low Change %\n",
            "0  Nov 30, 2018  14,281.2  14,361.0  14,383.0  14,250.5   -0.56%\n",
            "1  Nov 29, 2018  14,361.0  14,459.8  14,528.0  14,311.5   -1.15%\n",
            "2  Nov 28, 2018  14,527.5  14,513.5  14,542.5  14,509.5    0.10%\n",
            "3  Nov 27, 2018  14,513.5  14,488.5  14,518.5  14,478.5    0.27%\n",
            "4  Nov 26, 2018  14,475.0  14,540.0  14,565.0  14,455.0   -0.45%\n"
          ],
          "name": "stdout"
        }
      ]
    },
    {
      "metadata": {
        "id": "WgZPTOqoWgAb",
        "colab_type": "code",
        "colab": {}
      },
      "cell_type": "code",
      "source": [
        ""
      ],
      "execution_count": 0,
      "outputs": []
    },
    {
      "metadata": {
        "id": "GyHrjs-4Pakm",
        "colab_type": "code",
        "colab": {}
      },
      "cell_type": "code",
      "source": [
        "arb_norm = 20000\n",
        "data = price\n",
        "data = np.array(data)/arb_norm"
      ],
      "execution_count": 0,
      "outputs": []
    },
    {
      "metadata": {
        "id": "HacZu2XXUmit",
        "colab_type": "code",
        "colab": {}
      },
      "cell_type": "code",
      "source": [
        "class neuralNetwork(object):\n",
        "    def __init__(self, window):\n",
        "        self.inputLayerS= window\n",
        "        self.outputLayerS=1\n",
        "        self.hiddenLayer1S=500\n",
        "        self.hiddenLayer2S=500\n",
        "        \n",
        "        np.random.seed(1)\n",
        "        \n",
        "        self.w1 = np.random.randn(self.inputLayerS, self.hiddenLayer1S)\n",
        "        self.w2 = np.random.randn(self.hiddenLayer1S, self.hiddenLayer2S)\n",
        "        self.w3 = np.random.randn(self.hiddenLayer2S, self.outputLayerS)\n",
        "        self.B1 = np.random.randn(self.hiddenLayer1S)\n",
        "        self.B2 = np.random.randn(self.hiddenLayer2S)\n",
        "        \n",
        "        self.B1 = np.random.randn(self.hiddenLayer1S)\n",
        "        self.B2 = np.random.randn(self.hiddenLayer2S)\n",
        "    \n",
        "    def forward(self, x):\n",
        "        self.z0 = x\n",
        "        self.f0 = x#self.sigmoid(self.z0)\n",
        "        self.z1 = np.dot(self.f0, self.w1)\n",
        "        self.f1 = self.sigmoid(self.z1 + self.B1)\n",
        "        self.z2 = np.dot(self.f1, self.w2)\n",
        "        self.f2 = self.sigmoid(self.z2 + self.B2)\n",
        "        self.z3 = np.dot(self.f2, self.w3)\n",
        "        self.f3 = self.sigmoid(self.z3)\n",
        "        return self.f3\n",
        "    \n",
        "    def sigmoid(self, z):\n",
        "        return expit(z)\n",
        "    \n",
        "    def sigmoidP(self, x):\n",
        "        #x = self.sigmoid(x)\n",
        "        return x * (1.0 - x)\n",
        "    \n",
        "    def costFunc(self, res, tar):\n",
        "        #tar = target the digit value\n",
        "        #res = result of the forward NN\n",
        "        yHat = self.forward(res)\n",
        "        return np.sum((tar-yHat)**2)\n",
        "\n",
        "    def costFuncPrime(self, exp, z, res):\n",
        "        #z = image of digit in a single array / input\n",
        "        \n",
        "        lr = 1\n",
        "        \n",
        "        y = (exp - res)*2\n",
        "        delta3 = y*self.sigmoidP(self.f3)\n",
        "        dcdw3 = np.dot(self.f2.T,delta3)\n",
        "        \n",
        "        \n",
        "        delta2 = np.dot(delta3,self.w3.T) * self.sigmoidP(self.f2)\n",
        "        dcdw2 = np.dot(self.f1.T,delta2)\n",
        "        \n",
        "        delta1 = np.dot(delta2,self.w2.T) * self.sigmoidP(self.f1)\n",
        "        dcdw1 = np.dot(self.f0.T,delta1)\n",
        "        \n",
        "        dw3 = (dcdw3)\n",
        "        dw2 = (dcdw2)\n",
        "        dw1 = (dcdw1)\n",
        "        \n",
        "        #db1 = np.sum(self.dcdb1, axis=0)\n",
        "        #db2 = np.sum(self.dcdb2, axis=0)\n",
        "        return dw3, dw2, dw1#, db1, db2\n",
        "    \n",
        "    def trainBias(self, z, exp, lr):\n",
        "        res=self.forward(z)\n",
        "        #z = image of digit in a single array\n",
        "        \n",
        "        lr = 1\n",
        "        \n",
        "        y = (exp - res)*2\n",
        "        delta3 = y*self.sigmoidP(self.f3)       \n",
        "        \n",
        "        delta2 = np.dot(delta3,self.w3.T) * self.sigmoidP(self.f2)\n",
        "        \n",
        "        delta1 = np.dot(delta2,self.w2.T) * self.sigmoidP(self.f1)\n",
        "        \n",
        "        self.B2 += np.sum(delta2, axis=0) * lr\n",
        "        self.B1 += np.sum(delta1, axis=0) * lr\n",
        "        \n",
        "        return\n",
        "    \n",
        "    def trainNN(self, image, target):\n",
        "        res=self.forward(image)\n",
        "        dw3, dw2, dw1= self.costFuncPrime(target, image, res)\n",
        "        return dw3, dw2, dw1\n",
        "                \n",
        "    def testNN(self, image, tar):\n",
        "        res = self.forward(image)\n",
        "        y = tar\n",
        "        return res, self.costFunc(image, y)"
      ],
      "execution_count": 0,
      "outputs": []
    },
    {
      "metadata": {
        "id": "dtOHP6BPXeUQ",
        "colab_type": "code",
        "colab": {}
      },
      "cell_type": "code",
      "source": [
        "WINDOW = 10\n",
        "rec = neuralNetwork(WINDOW)\n",
        "setSize = 10 #Batch Size\n",
        "learnRate = 0.001\n",
        "periods = 10 #Epoch\n",
        "iterations = 10 #Steps"
      ],
      "execution_count": 0,
      "outputs": []
    },
    {
      "metadata": {
        "id": "waFLanUZUmiq",
        "colab_type": "code",
        "colab": {}
      },
      "cell_type": "code",
      "source": [
        "sep = int(len(data)*0.8)\n",
        "\n",
        "train = data[:sep]\n",
        "test = data[sep:]\n",
        "\n",
        "input_x = []\n",
        "output_y = []\n",
        "\n",
        "for i in range(len(train)-WINDOW-1):\n",
        "  features = []\n",
        "  labels = []\n",
        "  for j in range(WINDOW):\n",
        "    features.append(train[i+j])\n",
        "  labels.append(train[i+WINDOW])\n",
        "  input_x.append(features)\n",
        "  output_y.append(labels)\n",
        "  \n",
        "permutation = np.random.permutation(len(input_x))\n",
        "\n",
        "input_x = np.array(input_x)\n",
        "output_y = np.array(output_y)\n",
        "\n",
        "input_x = input_x[permutation]\n",
        "output_y = output_y[permutation]\n",
        "\n",
        "test_input_x = []\n",
        "test_output_y = []\n",
        "\n",
        "for i in range(len(test)-WINDOW-1):\n",
        "  features = []\n",
        "  labels = []\n",
        "  for j in range(WINDOW):\n",
        "    features.append(train[i+j])\n",
        "  labels.append(train[i+WINDOW])\n",
        "  test_input_x.append(features)\n",
        "  test_output_y.append(labels)\n",
        "\n",
        "\n",
        "#digits.data = np.array(digits.data, 'float32') \n",
        "#digits.target = np.array(digits.target, 'int16')\n",
        "#\n",
        "##digits.data = digits.data.reshape((len(features),28, 28))\n",
        "#minVal = np.amin(digits.data)\n",
        "#\n",
        "#digits.data = (digits.data - np.amin(digits.data))/(np.amax(digits.data) - minVal)\n",
        "#\n",
        "#permutation = np.random.permutation(len(digits.data))\n",
        "#\n",
        "#digits.data = digits.data[permutation]\n",
        "#digits.target = digits.target[permutation]"
      ],
      "execution_count": 0,
      "outputs": []
    },
    {
      "metadata": {
        "id": "53_wCJHTUmi3",
        "colab_type": "code",
        "outputId": "6fcc432e-e84c-4c00-866e-1f96890eda33",
        "colab": {
          "base_uri": "https://localhost:8080/",
          "height": 204
        }
      },
      "cell_type": "code",
      "source": [
        "#Trains Both\n",
        "\n",
        "for period in range(periods):\n",
        "    for iteration in range(iterations):\n",
        "        for i in range(int((len(input_x)/setSize)-1)):\n",
        "            dw3, dw2, dw1= rec.trainNN(input_x[i*setSize:(i+1)*setSize], output_y[i*setSize:(i+1)*setSize])\n",
        "            rec.w1 = rec.w1 + dw1*learnRate\n",
        "            rec.w2 = rec.w2 + dw2*learnRate\n",
        "            rec.w3 = rec.w3 + dw3*learnRate\n",
        "\n",
        "            #rec.B1 = rec.B1 + db1*learnRate\n",
        "            #rec.B2 = rec.B2 + db2*learnRate\n",
        "    for iteration in range(int((len(input_x)/setSize)-1)):\n",
        "        for i in range(int((len(input_x)/setSize)-1)):\n",
        "            rec.trainBias(input_x[i*setSize:(i+1)*setSize], output_y[i*setSize:(i+1)*setSize], learnRate)\n",
        "    \n",
        "    print(period)\n",
        "    \n",
        "print(\"Done\")"
      ],
      "execution_count": 0,
      "outputs": [
        {
          "output_type": "stream",
          "text": [
            "0\n",
            "1\n",
            "2\n",
            "3\n",
            "4\n",
            "5\n",
            "6\n",
            "7\n",
            "8\n",
            "9\n",
            "Done\n"
          ],
          "name": "stdout"
        }
      ]
    },
    {
      "metadata": {
        "id": "tkLinFGuUmi6",
        "colab_type": "code",
        "outputId": "7421c6b0-4abd-4386-ae44-f162789752fa",
        "colab": {
          "base_uri": "https://localhost:8080/",
          "height": 119
        }
      },
      "cell_type": "code",
      "source": [
        "#import matplotlib.pyplot as plt\n",
        "\n",
        "TotalCost = 0\n",
        "countLoop = 0\n",
        "maxCost = 0\n",
        "\n",
        "for i in range(len(test_input_x)):\n",
        "    countLoop += 1\n",
        "    res, cost = rec.testNN(test_input_x[i], test_output_y[i])\n",
        "    TotalCost += cost\n",
        "    if maxCost < cost:\n",
        "        maxCost = cost\n",
        "\n",
        "print(\"\\nAverage Cost\")\n",
        "print((TotalCost/countLoop))\n",
        "print(\"\\nMax Cost\")\n",
        "print(maxCost)"
      ],
      "execution_count": 0,
      "outputs": [
        {
          "output_type": "stream",
          "text": [
            "\n",
            "Average Cost\n",
            "0.08401840835060748\n",
            "\n",
            "Max Cost\n",
            "0.11261057988710867\n"
          ],
          "name": "stdout"
        }
      ]
    },
    {
      "metadata": {
        "id": "HaqrpehMUmi8",
        "colab_type": "code",
        "outputId": "07b9abdb-49f9-4c49-978f-538f8998d0cf",
        "colab": {
          "base_uri": "https://localhost:8080/",
          "height": 398
        }
      },
      "cell_type": "code",
      "source": [
        "import matplotlib.pyplot as plt\n",
        "\n",
        "def converter(x):\n",
        "  out = []\n",
        "  for i in x:\n",
        "    out.append(i[0] * arb_norm)\n",
        "  return out\n",
        "\n",
        "def converter1(x):\n",
        "  out = []\n",
        "  for i in x:\n",
        "    out.append(i * arb_norm)\n",
        "  return out\n",
        "\n",
        "res = rec.forward(test_input_x)\n",
        "\n",
        "#cret = test_input_x[0].copy()\n",
        "#temp = test_input_x[0].copy()\n",
        "#\n",
        "#out = []\n",
        "#\n",
        "#for i in range(89):\n",
        "#  cret1 = rec.forward(temp)\n",
        "#  cret.append(cret1[0])\n",
        "#  temp = cret[i+1:] \n",
        "#\n",
        "\n",
        "  \n",
        "index = np.arange(len(res))\n",
        "\n",
        "#test = converter1(cret)\n",
        "real = converter(test_output_y)\n",
        "pred = converter(res)\n",
        "\n",
        "print(len(res))\n",
        "print(len(real))\n",
        "print(len(pred))\n",
        "\n",
        "plt.plot(index, real)\n",
        "plt.plot(index, pred)\n",
        "#plt.plot(index, test)\n",
        "\n",
        "plt.legend(['real', 'pred'], loc='upper left')\n",
        "\n",
        "plt.show()\n"
      ],
      "execution_count": 0,
      "outputs": [
        {
          "output_type": "stream",
          "text": [
            "260\n",
            "260\n",
            "260\n"
          ],
          "name": "stdout"
        },
        {
          "output_type": "display_data",
          "data": {
            "image/png": "[encoded data removed]",
            "text/plain": [
              "<matplotlib.figure.Figure at 0x7f2e68583860>"
            ]
          },
          "metadata": {
            "tags": []
          }
        }
      ]
    },
    {
      "metadata": {
        "id": "dWqzyZ_TUmi_",
        "colab_type": "code",
        "colab": {}
      },
      "cell_type": "code",
      "source": [
        ""
      ],
      "execution_count": 0,
      "outputs": []
    },
    {
      "metadata": {
        "id": "rVS4yw21UmjB",
        "colab_type": "code",
        "colab": {}
      },
      "cell_type": "code",
      "source": [
        ""
      ],
      "execution_count": 0,
      "outputs": []
    },
    {
      "metadata": {
        "id": "TVn9fp6DUmjE",
        "colab_type": "code",
        "colab": {}
      },
      "cell_type": "code",
      "source": [
        ""
      ],
      "execution_count": 0,
      "outputs": []
    },
    {
      "metadata": {
        "id": "zaI7Lt29UmjK",
        "colab_type": "code",
        "colab": {}
      },
      "cell_type": "code",
      "source": [
        ""
      ],
      "execution_count": 0,
      "outputs": []
    }
  ]
}